{
  "metadata": {
    "kernelspec": {
      "display_name": "Python 3",
      "name": "python3"
    },
    "language_info": {
      "name": "python",
      "version": "3.10.12",
      "mimetype": "text/x-python",
      "codemirror_mode": {
        "name": "ipython",
        "version": 3
      },
      "pygments_lexer": "ipython3",
      "nbconvert_exporter": "python",
      "file_extension": ".py"
    },
    "kaggle": {
      "accelerator": "nvidiaTeslaT4",
      "dataSources": [
        {
          "sourceId": 5112,
          "sourceType": "modelInstanceVersion",
          "modelInstanceId": 3900
        }
      ],
      "dockerImageVersionId": 30580,
      "isInternetEnabled": true,
      "language": "python",
      "sourceType": "notebook",
      "isGpuEnabled": true
    },
    "colab": {
      "provenance": [],
      "gpuType": "T4",
      "include_colab_link": true
    },
    "accelerator": "GPU"
  },
  "nbformat_minor": 0,
  "nbformat": 4,
  "cells": [
    {
      "cell_type": "markdown",
      "metadata": {
        "id": "view-in-github",
        "colab_type": "text"
      },
      "source": [
        "<a href=\"https://colab.research.google.com/github/leonardoburbanov/coder_backend_lburbano/blob/main/21_1_2_THEORY_Introduction_to_LLMs_mistral_7b_instruct.ipynb\" target=\"_parent\"><img src=\"https://colab.research.google.com/assets/colab-badge.svg\" alt=\"Open In Colab\"/></a>"
      ]
    },
    {
      "cell_type": "code",
      "source": [
        "!pip install -q git+https://github.com/huggingface/transformers"
      ],
      "metadata": {
        "execution": {
          "iopub.status.busy": "2023-12-03T19:47:51.188410Z",
          "iopub.execute_input": "2023-12-03T19:47:51.188967Z",
          "iopub.status.idle": "2023-12-03T19:48:44.650546Z",
          "shell.execute_reply.started": "2023-12-03T19:47:51.188940Z",
          "shell.execute_reply": "2023-12-03T19:48:44.649106Z"
        },
        "trusted": true,
        "id": "ym5EOQPSK8CU"
      },
      "execution_count": null,
      "outputs": []
    },
    {
      "cell_type": "markdown",
      "source": [
        "# Model Loading"
      ],
      "metadata": {
        "id": "YCe71GPiK8CW"
      }
    },
    {
      "cell_type": "code",
      "source": [
        "import torch\n",
        "from transformers import AutoTokenizer\n",
        "from transformers import AutoModelForCausalLM\n",
        "\n",
        "model_path=\"/kaggle/input/mistral/pytorch/7b-instruct-v0.1-hf/1\"\n",
        "\n",
        "tokenizer=AutoTokenizer.from_pretrained(model_path)\n",
        "\n",
        "model = AutoModelForCausalLM.from_pretrained(\n",
        "    model_path,\n",
        "    torch_dtype = torch.bfloat16,\n",
        "    device_map = \"auto\",\n",
        "    trust_remote_code = True\n",
        ")"
      ],
      "metadata": {
        "execution": {
          "iopub.status.busy": "2023-12-03T19:48:49.790098Z",
          "iopub.execute_input": "2023-12-03T19:48:49.790845Z",
          "iopub.status.idle": "2023-12-03T19:51:00.291573Z",
          "shell.execute_reply.started": "2023-12-03T19:48:49.790805Z",
          "shell.execute_reply": "2023-12-03T19:51:00.290592Z"
        },
        "trusted": true,
        "id": "cdTL03l7K8CX"
      },
      "execution_count": null,
      "outputs": []
    },
    {
      "cell_type": "markdown",
      "source": [
        "# Creating the Chat Template"
      ],
      "metadata": {
        "id": "UhIs84NhK8CY"
      }
    },
    {
      "cell_type": "code",
      "source": [
        "messages = [{\n",
        "    \"role\":\"user\",\n",
        "    \"content\": \"Can you tell us 3 cities to visit in Turkey\"\n",
        "}]\n",
        "\n",
        "tokenizer.apply_chat_template(messages, tokenize=False)\n",
        "\n",
        "model_inputs = tokenizer.apply_chat_template(messages, return_tensors = \"pt\")"
      ],
      "metadata": {
        "execution": {
          "iopub.status.busy": "2023-12-03T19:52:12.734410Z",
          "iopub.execute_input": "2023-12-03T19:52:12.735054Z",
          "iopub.status.idle": "2023-12-03T19:52:12.784855Z",
          "shell.execute_reply.started": "2023-12-03T19:52:12.735022Z",
          "shell.execute_reply": "2023-12-03T19:52:12.783811Z"
        },
        "trusted": true,
        "id": "AlSoz6qwK8CY"
      },
      "execution_count": null,
      "outputs": []
    },
    {
      "cell_type": "code",
      "source": [
        "model_inputs"
      ],
      "metadata": {
        "execution": {
          "iopub.status.busy": "2023-12-03T19:52:14.630262Z",
          "iopub.execute_input": "2023-12-03T19:52:14.630823Z",
          "iopub.status.idle": "2023-12-03T19:52:14.641336Z",
          "shell.execute_reply.started": "2023-12-03T19:52:14.630789Z",
          "shell.execute_reply": "2023-12-03T19:52:14.640355Z"
        },
        "trusted": true,
        "id": "jhN7tXNTK8CY"
      },
      "execution_count": null,
      "outputs": []
    },
    {
      "cell_type": "markdown",
      "source": [
        "# Text-Generation"
      ],
      "metadata": {
        "id": "In_JqtNiK8CZ"
      }
    },
    {
      "cell_type": "code",
      "source": [
        "generated_ids = model.generate(\n",
        "    model_inputs,\n",
        "    max_new_tokens = 1000,\n",
        "    do_sample = True,\n",
        ")\n",
        "\n",
        "decoded = tokenizer.batch_decode(generated_ids)\n",
        "\n",
        "print(decoded[0])"
      ],
      "metadata": {
        "execution": {
          "iopub.status.busy": "2023-12-03T19:52:16.491362Z",
          "iopub.execute_input": "2023-12-03T19:52:16.491754Z",
          "iopub.status.idle": "2023-12-03T19:52:34.953469Z",
          "shell.execute_reply.started": "2023-12-03T19:52:16.491716Z",
          "shell.execute_reply": "2023-12-03T19:52:34.952178Z"
        },
        "trusted": true,
        "id": "QCF9m3s4K8CZ"
      },
      "execution_count": null,
      "outputs": []
    },
    {
      "cell_type": "code",
      "source": [
        "messages = [{\n",
        "    \"role\": \"user\",\n",
        "    \"content\": \"Act as a gourmet chef. I have a friend coming over who is a vegetarian. \\\n",
        "    I want to impress my friend with a special vegetarian dish. \\\n",
        "    What do you recommend? \\\n",
        "    Give me two options, along with the whole recipe for each\"\n",
        "}]\n",
        "\n",
        "model_inputs = tokenizer.apply_chat_template(messages,return_tensors = \"pt\")\n",
        "\n",
        "generated_ids = model.generate(\n",
        "    model_inputs,\n",
        "    max_new_tokens = 1000,\n",
        "    do_sample = True,\n",
        ")\n",
        "\n",
        "decoded = tokenizer.batch_decode(generated_ids)\n",
        "\n",
        "print(decoded[0])"
      ],
      "metadata": {
        "execution": {
          "iopub.status.busy": "2023-12-03T19:52:34.955491Z",
          "iopub.execute_input": "2023-12-03T19:52:34.956184Z",
          "iopub.status.idle": "2023-12-03T19:52:53.726708Z",
          "shell.execute_reply.started": "2023-12-03T19:52:34.956151Z",
          "shell.execute_reply": "2023-12-03T19:52:53.725524Z"
        },
        "trusted": true,
        "id": "MLUyQBEZK8CZ"
      },
      "execution_count": null,
      "outputs": []
    },
    {
      "cell_type": "code",
      "source": [
        "messages = [{\n",
        "    \"role\": \"user\", \"content\": \"How many helicopters can a human eat in one sitting?\"\n",
        "}]\n",
        "model_inputs = tokenizer.apply_chat_template(messages,return_tensors = \"pt\")\n",
        "generated_ids = model.generate(\n",
        "    model_inputs,\n",
        "    max_new_tokens = 1000,\n",
        "    do_sample = True,\n",
        ")\n",
        "decoded = tokenizer.batch_decode(generated_ids)\n",
        "print(decoded[0])"
      ],
      "metadata": {
        "execution": {
          "iopub.status.busy": "2023-12-03T19:54:29.297485Z",
          "iopub.execute_input": "2023-12-03T19:54:29.298234Z",
          "iopub.status.idle": "2023-12-03T19:54:31.594255Z",
          "shell.execute_reply.started": "2023-12-03T19:54:29.298201Z",
          "shell.execute_reply": "2023-12-03T19:54:31.593021Z"
        },
        "trusted": true,
        "id": "NRYt59OMK8CZ"
      },
      "execution_count": null,
      "outputs": []
    },
    {
      "cell_type": "code",
      "source": [
        "messages = [\n",
        "    {\"role\": \"user\", \"content\": \"What fascinates you about AI?\"},\n",
        "    {\"role\": \"assistant\", \"content\": \"I'm fascinated \\\n",
        "    by AI's data analysis and prediction abilities. \\\n",
        "    It has the potential to revolutionize industries and improve problem-solving.\"},\n",
        "    {\"role\": \"user\", \"content\": \"Should people be afraid of AI?\"}\n",
        "]\n",
        "model_inputs = tokenizer.apply_chat_template(messages,return_tensors = \"pt\")\n",
        "generated_ids = model.generate(\n",
        "    model_inputs,\n",
        "    max_new_tokens = 1000,\n",
        "    do_sample = True,\n",
        ")\n",
        "decoded = tokenizer.batch_decode(generated_ids)\n",
        "print(decoded[0])"
      ],
      "metadata": {
        "execution": {
          "iopub.status.busy": "2023-12-03T19:55:17.477389Z",
          "iopub.execute_input": "2023-12-03T19:55:17.477792Z",
          "iopub.status.idle": "2023-12-03T19:55:22.026178Z",
          "shell.execute_reply.started": "2023-12-03T19:55:17.477762Z",
          "shell.execute_reply": "2023-12-03T19:55:22.025194Z"
        },
        "trusted": true,
        "id": "mQWPQByTK8Ca"
      },
      "execution_count": null,
      "outputs": []
    },
    {
      "cell_type": "code",
      "source": [
        "messages = [\n",
        "    {\"role\": \"user\", \"content\": \"Türkiye'de en fazla ziyaret edilen 3 şehir hangidir?\"},\n",
        "]\n",
        "model_inputs = tokenizer.apply_chat_template(messages,return_tensors = \"pt\")\n",
        "generated_ids = model.generate(\n",
        "    model_inputs,\n",
        "    max_new_tokens = 1000,\n",
        "    do_sample = True,\n",
        ")\n",
        "decoded = tokenizer.batch_decode(generated_ids)\n",
        "print(decoded[0])"
      ],
      "metadata": {
        "execution": {
          "iopub.status.busy": "2023-12-03T19:55:22.028310Z",
          "iopub.execute_input": "2023-12-03T19:55:22.028725Z",
          "iopub.status.idle": "2023-12-03T19:55:23.271663Z",
          "shell.execute_reply.started": "2023-12-03T19:55:22.028687Z",
          "shell.execute_reply": "2023-12-03T19:55:23.270534Z"
        },
        "trusted": true,
        "id": "5a6-5x13K8Ca"
      },
      "execution_count": null,
      "outputs": []
    },
    {
      "cell_type": "markdown",
      "source": [
        "Let's connect [YouTube](http://youtube.com/tirendazacademy) | [Medium](http://tirendazacademy.medium.com) | [X](http://x.com/tirendazacademy) | [Linkedin](https://www.linkedin.com/in/tirendaz-academy)"
      ],
      "metadata": {
        "id": "255WrMsRK8Cb"
      }
    }
  ]
}